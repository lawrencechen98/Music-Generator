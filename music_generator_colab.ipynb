{
  "nbformat": 4,
  "nbformat_minor": 0,
  "metadata": {
    "colab": {
      "name": "music_generator_colab.ipynb",
      "version": "0.3.2",
      "views": {},
      "default_view": {},
      "provenance": [],
      "collapsed_sections": []
    },
    "kernelspec": {
      "name": "python3",
      "display_name": "Python 3"
    },
    "accelerator": "GPU"
  },
  "cells": [
    {
      "metadata": {
        "id": "DJw6NHPi2JVf",
        "colab_type": "code",
        "colab": {
          "autoexec": {
            "startup": false,
            "wait_interval": 0
          },
          "base_uri": "https://localhost:8080/",
          "height": 232
        },
        "outputId": "9ecc76cd-3289-4d61-e3fc-c11670f2aefe",
        "executionInfo": {
          "status": "ok",
          "timestamp": 1525063734938,
          "user_tz": 420,
          "elapsed": 32696,
          "user": {
            "displayName": "Lawrence Chen",
            "photoUrl": "//lh3.googleusercontent.com/-0ES548DUpW8/AAAAAAAAAAI/AAAAAAAAGcg/Jkx35VhprrU/s50-c-k-no/photo.jpg",
            "userId": "100246896254157022235"
          }
        }
      },
      "cell_type": "code",
      "source": [
        "import glob\n",
        "import pickle\n",
        "import numpy as np\n",
        "!pip install music21\n",
        "from music21 import converter, instrument, note, chord, stream\n",
        "from keras.models import Sequential\n",
        "from keras.layers import Dense\n",
        "from keras.layers import Dropout\n",
        "from keras.layers import LSTM\n",
        "from keras.layers import Activation\n",
        "from keras.utils import np_utils\n",
        "from keras.callbacks import ModelCheckpoint\n",
        "from keras.callbacks import History "
      ],
      "execution_count": 1,
      "outputs": [
        {
          "output_type": "stream",
          "text": [
            "Looking in indexes: https://pypi.org/simple, https://legacy.pypi.org/simple\n",
            "Collecting music21\n",
            "\u001b[?25l  Downloading https://files.pythonhosted.org/packages/79/76/af2d35fa133df7941fccebad7e7c609f8ea50fb63078b9e3d0b1522d0f84/music21-5.1.0.tar.gz (17.9MB)\n",
            "\u001b[K    100% |████████████████████████████████| 17.9MB 1.8MB/s \n",
            "\u001b[?25hBuilding wheels for collected packages: music21\n",
            "  Running setup.py bdist_wheel for music21 ... \u001b[?25l-\b \b\\\b \b|\b \b/\b \b-\b \b\\\b \b|\b \b/\b \b-\b \b\\\b \b|\b \b/\b \b-\b \b\\\b \b|\b \b/\b \b-\b \b\\\b \b|\b \b/\b \b-\b \b\\\b \b|\b \b/\b \b-\b \b\\\b \b|\b \b/\b \b-\b \b\\\b \b|\b \b/\b \b-\b \b\\\b \b|\b \b/\b \b-\b \b\\\b \b|\b \b/\b \b-\b \b\\\b \b|\b \b/\b \b-\b \b\\\b \b|\b \b/\b \b-\b \b\\\b \b|\b \b/\b \b-\b \b\\\b \b|\b \b/\b \b-\b \b\\\b \b|\b \b/\b \b-\b \b\\\b \b|\b \b/\b \b-\b \b\\\b \b|\b \b/\b \b-\b \b\\\b \b|\b \b/\b \bdone\n",
            "\u001b[?25h  Stored in directory: /content/.cache/pip/wheels/66/0d/71/ed677f5bec1eca6f924423a317eeb7e4df4859353861d58d44\n",
            "Successfully built music21\n",
            "Installing collected packages: music21\n",
            "Successfully installed music21-5.1.0\n"
          ],
          "name": "stdout"
        },
        {
          "output_type": "stream",
          "text": [
            "Using TensorFlow backend.\n"
          ],
          "name": "stderr"
        }
      ]
    },
    {
      "metadata": {
        "id": "KTwTaG5T2NEw",
        "colab_type": "code",
        "colab": {
          "autoexec": {
            "startup": false,
            "wait_interval": 0
          },
          "base_uri": "https://localhost:8080/",
          "height": 108
        },
        "outputId": "eda9b46d-256c-45e2-8694-4e403d60e907",
        "executionInfo": {
          "status": "ok",
          "timestamp": 1525063816865,
          "user_tz": 420,
          "elapsed": 24441,
          "user": {
            "displayName": "Lawrence Chen",
            "photoUrl": "//lh3.googleusercontent.com/-0ES548DUpW8/AAAAAAAAAAI/AAAAAAAAGcg/Jkx35VhprrU/s50-c-k-no/photo.jpg",
            "userId": "100246896254157022235"
          }
        }
      },
      "cell_type": "code",
      "source": [
        "!pip3 install unidecode\n",
        "import unidecode\n",
        "import string\n",
        "import random\n",
        "import re\n",
        "import numpy as np\n",
        "all_characters = string.printable\n",
        "n_characters = len(all_characters)\n",
        "\n",
        "# for auto-reloading external modules\n",
        "# see http://stackoverflow.com/questions/1907993/autoreload-of-modules-in-ipython\n",
        "%load_ext autoreload\n",
        "%autoreload 2\n",
        "\n",
        "# stuff needed for colaboratory\n",
        "!apt-get install -y -qq software-properties-common python-software-properties module-init-tools\n",
        "!add-apt-repository -y ppa:alessandro-strada/ppa 2>&1 > /dev/null\n",
        "!apt-get update -qq 2>&1 > /dev/null\n",
        "!apt-get -y install -qq google-drive-ocamlfuse fuse\n",
        "from google.colab import auth\n",
        "auth.authenticate_user()\n",
        "from oauth2client.client import GoogleCredentials\n",
        "creds = GoogleCredentials.get_application_default()\n",
        "import getpass\n",
        "!google-drive-ocamlfuse -headless -id={creds.client_id} -secret={creds.client_secret} < /dev/null 2>&1 | grep URL\n",
        "vcode = getpass.getpass()\n",
        "!echo {vcode} | google-drive-ocamlfuse -headless -id={creds.client_id} -secret={creds.client_secret}"
      ],
      "execution_count": 2,
      "outputs": [
        {
          "output_type": "stream",
          "text": [
            "Please, open the following URL in a web browser: https://accounts.google.com/o/oauth2/auth?client_id=32555940559.apps.googleusercontent.com&redirect_uri=urn%3Aietf%3Awg%3Aoauth%3A2.0%3Aoob&scope=https%3A%2F%2Fwww.googleapis.com%2Fauth%2Fdrive&response_type=code&access_type=offline&approval_prompt=force\r\n",
            "··········\n",
            "Please, open the following URL in a web browser: https://accounts.google.com/o/oauth2/auth?client_id=32555940559.apps.googleusercontent.com&redirect_uri=urn%3Aietf%3Awg%3Aoauth%3A2.0%3Aoob&scope=https%3A%2F%2Fwww.googleapis.com%2Fauth%2Fdrive&response_type=code&access_type=offline&approval_prompt=force\n",
            "Please enter the verification code: Access token retrieved correctly.\n"
          ],
          "name": "stdout"
        }
      ]
    },
    {
      "metadata": {
        "id": "hOc0MFZE2nMK",
        "colab_type": "code",
        "colab": {
          "autoexec": {
            "startup": false,
            "wait_interval": 0
          }
        }
      },
      "cell_type": "code",
      "source": [
        "# mount drive\n",
        "!mkdir -p drive\n",
        "!google-drive-ocamlfuse drive"
      ],
      "execution_count": 0,
      "outputs": []
    },
    {
      "metadata": {
        "id": "51yTyxYS2JVj",
        "colab_type": "code",
        "colab": {
          "autoexec": {
            "startup": false,
            "wait_interval": 0
          },
          "base_uri": "https://localhost:8080/",
          "height": 1634
        },
        "outputId": "54ce80c5-f95f-4e0c-a905-d087a1537077",
        "executionInfo": {
          "status": "ok",
          "timestamp": 1524979813935,
          "user_tz": 420,
          "elapsed": 332799,
          "user": {
            "displayName": "Lawrence Chen",
            "photoUrl": "//lh3.googleusercontent.com/-0ES548DUpW8/AAAAAAAAAAI/AAAAAAAAGcg/Jkx35VhprrU/s50-c-k-no/photo.jpg",
            "userId": "100246896254157022235"
          }
        }
      },
      "cell_type": "code",
      "source": [
        "notes_corpus = []\n",
        "\n",
        "for file in glob.glob(\"drive/midi/*.mid\"):\n",
        "    \n",
        "    print(\"Extracting MIDI File: \", file)\n",
        "    midi_stream = converter.parse(file)\n",
        "\n",
        "    notes = None\n",
        "\n",
        "    partition = instrument.partitionByInstrument(midi_stream)\n",
        "\n",
        "    if partition: \n",
        "        notes = partition.parts[0].recurse()\n",
        "    else: \n",
        "        notes = midi_stream.flat.notes\n",
        "\n",
        "    for element in notes:\n",
        "        if isinstance(element, note.Note):\n",
        "            notes_corpus.append(str(element.pitch))\n",
        "        elif isinstance(element, chord.Chord):\n",
        "            notes_corpus.append('.'.join(str(n) for n in element.normalOrder))           \n",
        "\n",
        "with open('drive/data/notes_corpus', 'wb') as filepath:\n",
        "    pickle.dump(notes_corpus, filepath)\n"
      ],
      "execution_count": 0,
      "outputs": [
        {
          "output_type": "stream",
          "text": [
            "Extracting MIDI File:  drive/midi/Zelda_Overworld.mid\n",
            "Extracting MIDI File:  drive/midi/z_aeristhemepiano.mid\n",
            "Extracting MIDI File:  drive/midi/VincentPiano.mid\n",
            "Extracting MIDI File:  drive/midi/ViviinAlexandria.mid\n",
            "Extracting MIDI File:  drive/midi/waltz_de_choco.mid\n",
            "Extracting MIDI File:  drive/midi/thenightmarebegins.mid\n",
            "Extracting MIDI File:  drive/midi/thoughts.mid\n",
            "Extracting MIDI File:  drive/midi/traitor.mid\n",
            "Extracting MIDI File:  drive/midi/tpirtsd-piano.mid\n",
            "Extracting MIDI File:  drive/midi/ultros.mid\n",
            "Extracting MIDI File:  drive/midi/ultimafro.mid\n",
            "Extracting MIDI File:  drive/midi/tifap.mid\n",
            "Extracting MIDI File:  drive/midi/relmstheme-piano.mid\n",
            "Extracting MIDI File:  drive/midi/Suteki_Da_Ne_(Piano_Version).mid\n",
            "Extracting MIDI File:  drive/midi/Rydia_pc.mid\n",
            "Extracting MIDI File:  drive/midi/Still_Alive-1.mid\n",
            "Extracting MIDI File:  drive/midi/roseofmay-piano.mid\n",
            "Extracting MIDI File:  drive/midi/rufus.mid\n",
            "Extracting MIDI File:  drive/midi/sera_.mid\n",
            "Extracting MIDI File:  drive/midi/sandy.mid\n",
            "Extracting MIDI File:  drive/midi/redwings.mid\n",
            "Extracting MIDI File:  drive/midi/sobf.mid\n",
            "Extracting MIDI File:  drive/midi/Rachel_Piano_tempofix.mid\n",
            "Extracting MIDI File:  drive/midi/Kingdom_Hearts_Traverse_Town.mid\n",
            "Extracting MIDI File:  drive/midi/mining.mid\n",
            "Extracting MIDI File:  drive/midi/pkelite4.mid\n",
            "Extracting MIDI File:  drive/midi/path_of_repentance.mid\n",
            "Extracting MIDI File:  drive/midi/OTD5YA.mid\n",
            "Extracting MIDI File:  drive/midi/Life_Stream.mid\n",
            "Extracting MIDI File:  drive/midi/Oppressed.mid\n",
            "Extracting MIDI File:  drive/midi/Kingdom_Hearts_Dearly_Beloved.mid\n",
            "Extracting MIDI File:  drive/midi/lurk_in_dark.mid\n",
            "Extracting MIDI File:  drive/midi/In_Zanarkand.mid\n",
            "Extracting MIDI File:  drive/midi/Gold_Silver_Rival_Battle.mid\n",
            "Extracting MIDI File:  drive/midi/JENOVA.mid\n",
            "Extracting MIDI File:  drive/midi/great_war.mid\n",
            "Extracting MIDI File:  drive/midi/goldsaucer.mid\n",
            "Extracting MIDI File:  drive/midi/HighwindTakestotheSkies.mid\n",
            "Extracting MIDI File:  drive/midi/fortresscondor.mid\n",
            "Extracting MIDI File:  drive/midi/Fyw_piano.mid\n",
            "Extracting MIDI File:  drive/midi/Finalfantasy6fanfarecomplete.mid\n",
            "Extracting MIDI File:  drive/midi/gerudo.mid\n",
            "Extracting MIDI File:  drive/midi/Final_Fantasy_7_-_Judgement_Day_Piano.mid\n",
            "Extracting MIDI File:  drive/midi/Finalfantasy5gilgameshp.mid\n",
            "Extracting MIDI File:  drive/midi/Final_Fantasy_Matouyas_Cave_Piano.mid\n",
            "Extracting MIDI File:  drive/midi/FFIX_Piano.mid\n",
            "Extracting MIDI File:  drive/midi/figaro.mid\n",
            "Extracting MIDI File:  drive/midi/FFVII_BATTLE.mid\n",
            "Extracting MIDI File:  drive/midi/Fiend_Battle_(Piano).mid\n",
            "Extracting MIDI File:  drive/midi/Fierce_Battle_(Piano).mid\n",
            "Extracting MIDI File:  drive/midi/FFX_-_Ending_Theme_(Piano_Version)_-_by_Angel_FF.mid\n",
            "Extracting MIDI File:  drive/midi/FFIXQuMarshP.mid\n",
            "Extracting MIDI File:  drive/midi/FFIII_Edgar_And_Sabin_Piano.mid\n",
            "Extracting MIDI File:  drive/midi/ff11_awakening_piano.mid\n",
            "Extracting MIDI File:  drive/midi/ff8-lfp.mid\n",
            "Extracting MIDI File:  drive/midi/FF8_Shuffle_or_boogie_pc.mid\n",
            "Extracting MIDI File:  drive/midi/ff6shap.mid\n",
            "Extracting MIDI File:  drive/midi/ff7themep.mid\n",
            "Extracting MIDI File:  drive/midi/Ff7-One_Winged.mid\n",
            "Extracting MIDI File:  drive/midi/Ff7-Jenova_Absolute.mid\n",
            "Extracting MIDI File:  drive/midi/ff7-mainmidi.mid\n"
          ],
          "name": "stdout"
        },
        {
          "output_type": "stream",
          "text": [
            "Extracting MIDI File:  drive/midi/Ff7-Cinco.mid\n",
            "Extracting MIDI File:  drive/midi/FF6epitaph_piano.mid\n",
            "Extracting MIDI File:  drive/midi/FF4.mid\n",
            "Extracting MIDI File:  drive/midi/ff4-fight1.mid\n",
            "Extracting MIDI File:  drive/midi/ff4-town.mid\n",
            "Extracting MIDI File:  drive/midi/ff4pclov.mid\n",
            "Extracting MIDI File:  drive/midi/ff4-airship.mid\n",
            "Extracting MIDI File:  drive/midi/FF3_Third_Phase_Final_(Piano).mid\n",
            "Extracting MIDI File:  drive/midi/FF3_Battle_(Piano).mid\n",
            "Extracting MIDI File:  drive/midi/Ff4-BattleLust.mid\n",
            "Extracting MIDI File:  drive/midi/ff4_piano_collections-main_theme.mid\n",
            "Extracting MIDI File:  drive/midi/Eternal_Harvest.mid\n",
            "Extracting MIDI File:  drive/midi/costadsol.mid\n",
            "Extracting MIDI File:  drive/midi/EyesOnMePiano.mid\n",
            "Extracting MIDI File:  drive/midi/ff1battp.mid\n",
            "Extracting MIDI File:  drive/midi/electric_de_chocobo.mid\n",
            "Extracting MIDI File:  drive/midi/decisive.mid\n",
            "Extracting MIDI File:  drive/midi/dontbeafraid.mid\n",
            "Extracting MIDI File:  drive/midi/dayafter.mid\n",
            "Extracting MIDI File:  drive/midi/DOS.mid\n",
            "Extracting MIDI File:  drive/midi/cosmo.mid\n",
            "Extracting MIDI File:  drive/midi/caitsith.mid\n",
            "Extracting MIDI File:  drive/midi/Cids.mid\n",
            "Extracting MIDI File:  drive/midi/bcm.mid\n",
            "Extracting MIDI File:  drive/midi/BlueStone_LastDungeon.mid\n",
            "Extracting MIDI File:  drive/midi/braska.mid\n",
            "Extracting MIDI File:  drive/midi/balamb.mid\n",
            "Extracting MIDI File:  drive/midi/0fithos.mid\n",
            "Extracting MIDI File:  drive/midi/8.mid\n",
            "Extracting MIDI File:  drive/midi/ahead_on_our_way_piano.mid\n"
          ],
          "name": "stdout"
        }
      ]
    },
    {
      "metadata": {
        "id": "_TjoPb0v3EZd",
        "colab_type": "code",
        "colab": {
          "autoexec": {
            "startup": false,
            "wait_interval": 0
          }
        }
      },
      "cell_type": "code",
      "source": [
        "with open('drive/data/cleaned_corpus', 'rb') as filepath:\n",
        "    notes_corpus = pickle.load(filepath)"
      ],
      "execution_count": 0,
      "outputs": []
    },
    {
      "metadata": {
        "id": "csbs6YSW2JVq",
        "colab_type": "code",
        "colab": {
          "autoexec": {
            "startup": false,
            "wait_interval": 0
          },
          "base_uri": "https://localhost:8080/",
          "height": 34
        },
        "outputId": "5d635503-c93f-4362-faef-9cbad1f893bf",
        "executionInfo": {
          "status": "ok",
          "timestamp": 1525063830689,
          "user_tz": 420,
          "elapsed": 446,
          "user": {
            "displayName": "Lawrence Chen",
            "photoUrl": "//lh3.googleusercontent.com/-0ES548DUpW8/AAAAAAAAAAI/AAAAAAAAGcg/Jkx35VhprrU/s50-c-k-no/photo.jpg",
            "userId": "100246896254157022235"
          }
        }
      },
      "cell_type": "code",
      "source": [
        "vocab_size = len(set(notes_corpus))\n",
        "vocab_size"
      ],
      "execution_count": 5,
      "outputs": [
        {
          "output_type": "execute_result",
          "data": {
            "text/plain": [
              "358"
            ]
          },
          "metadata": {
            "tags": []
          },
          "execution_count": 5
        }
      ]
    },
    {
      "metadata": {
        "id": "Tv-1aysI2JVu",
        "colab_type": "code",
        "colab": {
          "autoexec": {
            "startup": false,
            "wait_interval": 0
          }
        }
      },
      "cell_type": "code",
      "source": [
        "window_size = 60\n",
        "note_sequence_input = []\n",
        "next_note_output = []\n",
        "\n",
        "notes = sorted(set(notes_corpus))\n",
        "note2int = dict((note, num) for num, note in enumerate(notes))\n",
        "\n",
        "for i in range(0, len(notes_corpus) - window_size):\n",
        "    current_sequence = [note2int[note] for note in notes_corpus[i:window_size+i]]\n",
        "    next_note = note2int[notes_corpus[window_size+i]]\n",
        "    note_sequence_input.append(current_sequence)\n",
        "    next_note_output.append(next_note)"
      ],
      "execution_count": 0,
      "outputs": []
    },
    {
      "metadata": {
        "id": "CmPY9Yn22JVy",
        "colab_type": "code",
        "colab": {
          "autoexec": {
            "startup": false,
            "wait_interval": 0
          },
          "base_uri": "https://localhost:8080/",
          "height": 34
        },
        "outputId": "a2d54f32-f2fb-4ceb-a1cf-b773edeac38c",
        "executionInfo": {
          "status": "ok",
          "timestamp": 1525063835384,
          "user_tz": 420,
          "elapsed": 1005,
          "user": {
            "displayName": "Lawrence Chen",
            "photoUrl": "//lh3.googleusercontent.com/-0ES548DUpW8/AAAAAAAAAAI/AAAAAAAAGcg/Jkx35VhprrU/s50-c-k-no/photo.jpg",
            "userId": "100246896254157022235"
          }
        }
      },
      "cell_type": "code",
      "source": [
        "training_data = np.reshape(note_sequence_input, (len(note_sequence_input), window_size, 1))\n",
        "training_data = training_data / float(vocab_size)\n",
        "training_data.shape"
      ],
      "execution_count": 7,
      "outputs": [
        {
          "output_type": "execute_result",
          "data": {
            "text/plain": [
              "(64525, 60, 1)"
            ]
          },
          "metadata": {
            "tags": []
          },
          "execution_count": 7
        }
      ]
    },
    {
      "metadata": {
        "id": "SOpjWNHy2JV3",
        "colab_type": "code",
        "colab": {
          "autoexec": {
            "startup": false,
            "wait_interval": 0
          },
          "base_uri": "https://localhost:8080/",
          "height": 34
        },
        "outputId": "677ac7fa-0b07-4ab2-dbb7-0042ac7e5fec",
        "executionInfo": {
          "status": "ok",
          "timestamp": 1525063836423,
          "user_tz": 420,
          "elapsed": 364,
          "user": {
            "displayName": "Lawrence Chen",
            "photoUrl": "//lh3.googleusercontent.com/-0ES548DUpW8/AAAAAAAAAAI/AAAAAAAAGcg/Jkx35VhprrU/s50-c-k-no/photo.jpg",
            "userId": "100246896254157022235"
          }
        }
      },
      "cell_type": "code",
      "source": [
        "training_label = np_utils.to_categorical(next_note_output)\n",
        "training_label.shape"
      ],
      "execution_count": 8,
      "outputs": [
        {
          "output_type": "execute_result",
          "data": {
            "text/plain": [
              "(64525, 358)"
            ]
          },
          "metadata": {
            "tags": []
          },
          "execution_count": 8
        }
      ]
    },
    {
      "metadata": {
        "id": "c3_NhiXX2JV8",
        "colab_type": "code",
        "colab": {
          "autoexec": {
            "startup": false,
            "wait_interval": 0
          }
        }
      },
      "cell_type": "code",
      "source": [
        "model = Sequential()\n",
        "model.add(LSTM(500, input_shape=(training_data.shape[1], training_data.shape[2]), return_sequences=True))\n",
        "model.add(Dropout(0.5))\n",
        "model.add(LSTM(500, return_sequences=True))\n",
        "model.add(Dropout(0.4))\n",
        "model.add(LSTM(500))\n",
        "model.add(Dense(400))\n",
        "model.add(Dropout(0.3))\n",
        "model.add(Dense(vocab_size))\n",
        "model.add(Activation('softmax'))\n",
        "model.compile(loss='categorical_crossentropy', optimizer='adam')"
      ],
      "execution_count": 0,
      "outputs": []
    },
    {
      "metadata": {
        "id": "Ig7vzYAs2JV-",
        "colab_type": "code",
        "colab": {
          "autoexec": {
            "startup": false,
            "wait_interval": 0
          }
        }
      },
      "cell_type": "code",
      "source": [
        "filepath = \"drive/data/model-weights-bigger.hdf5\"\n",
        "model_checkpoint = ModelCheckpoint(\n",
        "    filepath,\n",
        "    monitor='loss',\n",
        "    verbose=0,\n",
        "    save_best_only=True,\n",
        "    mode='min'\n",
        ")\n",
        "callbacks_list = [model_checkpoint]"
      ],
      "execution_count": 0,
      "outputs": []
    },
    {
      "metadata": {
        "id": "exBGM0822JWD",
        "colab_type": "code",
        "colab": {
          "autoexec": {
            "startup": false,
            "wait_interval": 0
          },
          "base_uri": "https://localhost:8080/",
          "height": 159
        },
        "outputId": "bcf481aa-b727-4d03-8d5f-1ecd74756f4c"
      },
      "cell_type": "code",
      "source": [
        "model.fit(training_data, training_label, epochs=200, batch_size=64, callbacks=callbacks_list)"
      ],
      "execution_count": 0,
      "outputs": [
        {
          "output_type": "stream",
          "text": [
            "Epoch 1/200\n",
            "64525/64525 [==============================] - 452s 7ms/step - loss: 0.1368\n",
            "Epoch 2/200\n",
            " 6080/64525 [=>............................] - ETA: 6:51 - loss: 0.1094"
          ],
          "name": "stdout"
        },
        {
          "output_type": "stream",
          "text": [
            "64525/64525 [==============================] - 458s 7ms/step - loss: 0.1342\n",
            "Epoch 3/200\n",
            "14080/64525 [=====>........................] - ETA: 6:02 - loss: 0.1275"
          ],
          "name": "stdout"
        },
        {
          "output_type": "stream",
          "text": [
            "64525/64525 [==============================] - 461s 7ms/step - loss: 0.1331\n",
            "Epoch 4/200\n",
            "  640/64525 [..............................] - ETA: 7:27 - loss: 0.0925"
          ],
          "name": "stdout"
        }
      ]
    },
    {
      "metadata": {
        "id": "Qr0swvLK2JWL",
        "colab_type": "code",
        "colab": {
          "autoexec": {
            "startup": false,
            "wait_interval": 0
          }
        }
      },
      "cell_type": "code",
      "source": [
        "model.load_weights('drive/data/model-weights-bigger.hdf5')"
      ],
      "execution_count": 0,
      "outputs": []
    },
    {
      "metadata": {
        "id": "KTBd9ahW2JWO",
        "colab_type": "code",
        "colab": {
          "autoexec": {
            "startup": false,
            "wait_interval": 0
          }
        },
        "outputId": "bb1d099c-c823-4bb7-e402-51f91e748e4c"
      },
      "cell_type": "code",
      "source": [
        "starting_sequence = np.random.randint(219, size=window_size)\n",
        "pattern_sequence = starting_sequence.tolist()\n",
        "prediction_output = []\n",
        "\n",
        "int2note = dict((num, note) for num, note in enumerate(notes))\n",
        "\n",
        "for i in range(900):\n",
        "    prediction_input = numpy.reshape(pattern_sequence, (1, len(pattern_sequence), 1))\n",
        "    prediction_input = prediction_input / float(vocab_size)\n",
        "\n",
        "    if i%3 == 0:   \n",
        "        print('\\r', 'Predicting.  Note: ', i, end='')  \n",
        "    if i%3 == 1:   \n",
        "        print('\\r', 'Predicting.. Note: ', i, end='')\n",
        "    if i%3 == 2:   \n",
        "        print('\\r', 'Predicting...Note: ', i, end='')\n",
        "    prediction = model.predict(prediction_input, verbose=0)\n",
        "\n",
        "    index = numpy.argmax(prediction)\n",
        "    note_instance = int2note[index]\n",
        "    prediction_output.append(note_instance)\n",
        "\n",
        "    pattern_sequence.append(index)\n",
        "    pattern_sequence = pattern_sequence[1:len(pattern_sequence)]    \n",
        "  \n",
        "prediction_output = prediction_output[300:len(prediction_output)]"
      ],
      "execution_count": 0,
      "outputs": [
        {
          "output_type": "stream",
          "text": [
            " Predicting...Note:  899"
          ],
          "name": "stdout"
        }
      ]
    },
    {
      "metadata": {
        "id": "NsHs9TRf2JWU",
        "colab_type": "code",
        "colab": {
          "autoexec": {
            "startup": false,
            "wait_interval": 0
          }
        },
        "outputId": "a728ed92-daf6-4db1-9962-f265efc0e8b4"
      },
      "cell_type": "code",
      "source": [
        "offset = 0\n",
        "output_notes = []\n",
        "\n",
        "for pattern in prediction_output:\n",
        "    if ('.' in pattern) or pattern.isdigit():\n",
        "        chord_array = pattern.split('.')\n",
        "        chord_notes = []\n",
        "        for note_instance in chord_array:\n",
        "            note_object = note.Note(int(note_instance))\n",
        "            note_object.storedInstrument = instrument.Piano()\n",
        "            chord_notes.append(note_object)\n",
        "        chord_object = chord.Chord(chord_notes)\n",
        "        chord_object.offset = offset\n",
        "        output_notes.append(chord_object)\n",
        "    else:\n",
        "        note_object = note.Note(pattern)\n",
        "        note_object.offset = offset\n",
        "        note_object.storedInstrument = instrument.Piano()\n",
        "        output_notes.append(note_object)\n",
        "\n",
        "    offset += 0.75\n",
        "\n",
        "midi_stream = stream.Stream(output_notes)\n",
        "\n",
        "midi_stream.write('midi', fp='drive/midi/test_output.mid')"
      ],
      "execution_count": 0,
      "outputs": [
        {
          "output_type": "execute_result",
          "data": {
            "text/plain": [
              "'test_output.mid'"
            ]
          },
          "metadata": {
            "tags": []
          },
          "execution_count": 117
        }
      ]
    },
    {
      "metadata": {
        "id": "7WQ3sB-p2JWa",
        "colab_type": "code",
        "colab": {
          "autoexec": {
            "startup": false,
            "wait_interval": 0
          }
        }
      },
      "cell_type": "code",
      "source": [
        "!pkill -9 -f ipykernel_launcher"
      ],
      "execution_count": 0,
      "outputs": []
    },
    {
      "metadata": {
        "id": "W_B5R1Mk2JWd",
        "colab_type": "code",
        "colab": {
          "autoexec": {
            "startup": false,
            "wait_interval": 0
          }
        }
      },
      "cell_type": "code",
      "source": [
        ""
      ],
      "execution_count": 0,
      "outputs": []
    },
    {
      "metadata": {
        "id": "ttVtfuOI2JWf",
        "colab_type": "code",
        "colab": {
          "autoexec": {
            "startup": false,
            "wait_interval": 0
          }
        }
      },
      "cell_type": "code",
      "source": [
        ""
      ],
      "execution_count": 0,
      "outputs": []
    }
  ]
}